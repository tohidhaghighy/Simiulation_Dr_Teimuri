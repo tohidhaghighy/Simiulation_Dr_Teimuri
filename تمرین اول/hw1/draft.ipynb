{
 "cells": [
  {
   "cell_type": "code",
   "execution_count": 51,
   "metadata": {},
   "outputs": [],
   "source": [
    "from math import sqrt\n",
    "import numpy as np"
   ]
  },
  {
   "cell_type": "code",
   "execution_count": 2,
   "metadata": {},
   "outputs": [],
   "source": [
    "def calc_hamming_distancce(a, b):\n",
    "    a.reshape(b.shape)\n",
    "    return np.count_nonzero(a != b)"
   ]
  },
  {
   "cell_type": "code",
   "execution_count": 37,
   "metadata": {},
   "outputs": [],
   "source": [
    "def input_matrix(m, n,msg=\"Please enter value for M_{},{} : \"):\n",
    "    l_mat=[]\n",
    "    for i in range(m):\n",
    "        r = []\n",
    "        for j in range(n):\n",
    "            e = int(input(msg.format(i, j)))\n",
    "            r.append(e)\n",
    "        l_mat.append(r)\n",
    "    return np.array(l_mat)"
   ]
  },
  {
   "cell_type": "code",
   "execution_count": 49,
   "metadata": {},
   "outputs": [
    {
     "name": "stdout",
     "output_type": "stream",
     "text": [
      "Please input m :2\n",
      "Please input n :3\n",
      "Please enter value for C_0,0 : 1\n",
      "Please enter value for C_0,1 : 2\n",
      "Please enter value for C_0,2 : 3\n",
      "Please enter value for C_1,0 : 4\n",
      "Please enter value for C_1,1 : 5\n",
      "Please enter value for C_1,2 : 6\n",
      "**********\n",
      "Please enter value for c_0,0 : 1\n",
      "Please enter value for c_0,1 : 5\n",
      "Please enter value for c_0,2 : 6\n",
      "**********\n",
      "Nearest Neighbour Index : 1\n"
     ]
    }
   ],
   "source": [
    "m = int(input(\"Please input m :\"))\n",
    "n = int(input(\"Please input n :\"))\n",
    "C = input_matrix(m, n, msg=\"Please enter value for C_{},{} : \")\n",
    "print(\"*\"*10)\n",
    "c = input_matrix(1, n, msg=\"Please enter value for c_{},{} : \")\n",
    "print(\"*\"*10)\n",
    "nni = np.argmin(np.apply_along_axis(lambda x:calc_hamming_distancce(x, c), axis=1, arr=C))\n",
    "print(\"Nearest Neighbour Index : {}\".format(nni))\n"
   ]
  },
  {
   "cell_type": "code",
   "execution_count": 52,
   "metadata": {},
   "outputs": [],
   "source": [
    "def find_factors(N):\n",
    "    factors = {1,N}\n",
    "    for i in range(2,int(sqrt(N))+1):\n",
    "        if N%i == 0:\n",
    "            factors.update((i,N//i))\n",
    "    return factors"
   ]
  },
  {
   "cell_type": "code",
   "execution_count": 66,
   "metadata": {},
   "outputs": [
    {
     "name": "stdout",
     "output_type": "stream",
     "text": [
      "Please enter value for N : 12\n",
      "Factors of 12 = {1, 2, 3, 4, 6, 12}\n"
     ]
    }
   ],
   "source": [
    "N = int(input(\"Please enter value for N : \"))\n",
    "print(\"Factors of {} = {}\".format(N, find_factors(N)))"
   ]
  },
  {
   "cell_type": "code",
   "execution_count": 67,
   "metadata": {},
   "outputs": [],
   "source": [
    "def is_prime(a):\n",
    "    if((a<=1) or (a%1>0)):\n",
    "        return False\n",
    "    for i in range(2, a//2):\n",
    "        if(a%i==0):\n",
    "            return False\n",
    "    return True"
   ]
  },
  {
   "cell_type": "code",
   "execution_count": 88,
   "metadata": {},
   "outputs": [
    {
     "name": "stdout",
     "output_type": "stream",
     "text": [
      "Please enter value for N : 10\n",
      "10 first prime numbers = {2, 3, 4, 5, 7, 11, 13, 17, 19, 23}\n"
     ]
    }
   ],
   "source": [
    "N = int(input(\"Please enter value for N : \"))\n",
    "prime_set = set()\n",
    "i = 0\n",
    "while(N>0):\n",
    "    if(is_prime(i)):\n",
    "        prime_set.add(i)\n",
    "        N -= 1\n",
    "    i += 1\n",
    "print(\"{} first prime numbers = {}\".format(len(prime_set), prime_set))"
   ]
  },
  {
   "cell_type": "code",
   "execution_count": 134,
   "metadata": {},
   "outputs": [],
   "source": [
    "from itertools import chain, combinations, permutations\n",
    "\n",
    "def get_subsets(l):\n",
    "    return chain(*[combinations(l,i + 1) for i,a in enumerate(l)])\n",
    "\n",
    "def get_k_subsets(l, k):\n",
    "    s_l = sorted(l)\n",
    "    return set([tuple(i) for i in combinations(get_subsets(l),k) \n",
    "               if sorted(chain(*i)) == s_l])"
   ]
  },
  {
   "cell_type": "code",
   "execution_count": 170,
   "metadata": {},
   "outputs": [],
   "source": [
    "# x_1 + x_2 + ... + x_n = k\n",
    "def calc_x(k, n):\n",
    "    l_k = [1] * k\n",
    "    k_subsets = get_k_subsets(l_k, n)\n",
    "    answers = []\n",
    "    for el in k_subsets:\n",
    "        for per in set(permutations(el)):\n",
    "            ans = list(map(sum, per))\n",
    "            answers.append(ans)\n",
    "    return np.array(answers)"
   ]
  },
  {
   "cell_type": "code",
   "execution_count": 171,
   "metadata": {},
   "outputs": [
    {
     "name": "stdout",
     "output_type": "stream",
     "text": [
      "Enter value for k :2\n",
      "Enter value for n :3\n"
     ]
    }
   ],
   "source": [
    "k = int(input(\"Enter value for k :\"))\n",
    "n = int(input(\"Enter value for n :\"))\n",
    "print(\"answers = {}\".format(calc_x(k, n)))"
   ]
  },
  {
   "cell_type": "code",
   "execution_count": 172,
   "metadata": {},
   "outputs": [
    {
     "data": {
      "text/plain": [
       "array([[1, 1, 3],\n",
       "       [1, 3, 1],\n",
       "       [3, 1, 1],\n",
       "       [2, 2, 1],\n",
       "       [2, 1, 2],\n",
       "       [1, 2, 2]])"
      ]
     },
     "execution_count": 172,
     "metadata": {},
     "output_type": "execute_result"
    }
   ],
   "source": [
    "calc_x(5, 3)"
   ]
  },
  {
   "cell_type": "code",
   "execution_count": 102,
   "metadata": {},
   "outputs": [
    {
     "data": {
      "text/plain": [
       "[1, 1]"
      ]
     },
     "execution_count": 102,
     "metadata": {},
     "output_type": "execute_result"
    }
   ],
   "source": [
    "l_k"
   ]
  },
  {
   "cell_type": "code",
   "execution_count": 91,
   "metadata": {},
   "outputs": [
    {
     "name": "stdout",
     "output_type": "stream",
     "text": [
      "Total number of different ways are 6\n"
     ]
    }
   ],
   "source": [
    "if __name__ == '__main__': \n",
    "    n = 5\n",
    "    k = 3\n",
    "    print(\"Total number of different ways are\",binomialCoeff(n - 1, k - 1)) \n",
    "      "
   ]
  },
  {
   "cell_type": "code",
   "execution_count": 119,
   "metadata": {},
   "outputs": [
    {
     "name": "stdout",
     "output_type": "stream",
     "text": [
      "{((1, 1), (1, 1, 1)), ((1,), (1, 1, 1, 1))}\n"
     ]
    }
   ],
   "source": [
    "\n",
    "\n",
    "m = k_subset([1,1,1,1,1],2)\n",
    "print(k_subset([1,1,1,1,1],2))"
   ]
  },
  {
   "cell_type": "code",
   "execution_count": 138,
   "metadata": {},
   "outputs": [],
   "source": [
    "m = k_subset([1,1,1,1,1],3)"
   ]
  },
  {
   "cell_type": "code",
   "execution_count": 168,
   "metadata": {},
   "outputs": [
    {
     "name": "stdout",
     "output_type": "stream",
     "text": [
      "((1,), (1,), (1, 1, 1))\n",
      "((1,), (1, 1), (1, 1))\n"
     ]
    }
   ],
   "source": [
    "answers = []\n",
    "for el in m:\n",
    "    print(el)\n",
    "    for per in set(permutations(el)):\n",
    "#         print(per)\n",
    "        ans = list(map(sum, per))\n",
    "        answers.append(ans)"
   ]
  },
  {
   "cell_type": "code",
   "execution_count": 169,
   "metadata": {},
   "outputs": [
    {
     "data": {
      "text/plain": [
       "[((1,), (1,), (1, 1, 1)),\n",
       " ((1,), (1, 1, 1), (1,)),\n",
       " ((1,), (1,), (1, 1, 1)),\n",
       " ((1,), (1, 1, 1), (1,)),\n",
       " ((1, 1, 1), (1,), (1,)),\n",
       " ((1, 1, 1), (1,), (1,))]"
      ]
     },
     "execution_count": 169,
     "metadata": {},
     "output_type": "execute_result"
    }
   ],
   "source": [
    "list(permutations(((1,), (1,), (1, 1, 1))))"
   ]
  },
  {
   "cell_type": "code",
   "execution_count": 128,
   "metadata": {},
   "outputs": [
    {
     "ename": "TypeError",
     "evalue": "unsupported operand type(s) for +: 'int' and 'tuple'",
     "output_type": "error",
     "traceback": [
      "\u001b[0;31m---------------------------------------------------------------------------\u001b[0m",
      "\u001b[0;31mTypeError\u001b[0m                                 Traceback (most recent call last)",
      "\u001b[0;32m<ipython-input-128-89819c456c26>\u001b[0m in \u001b[0;36m<module>\u001b[0;34m\u001b[0m\n\u001b[0;32m----> 1\u001b[0;31m \u001b[0mlist\u001b[0m\u001b[0;34m(\u001b[0m\u001b[0mmap\u001b[0m\u001b[0;34m(\u001b[0m\u001b[0msum\u001b[0m\u001b[0;34m,\u001b[0m \u001b[0manswers\u001b[0m\u001b[0;34m)\u001b[0m\u001b[0;34m)\u001b[0m\u001b[0;34m\u001b[0m\u001b[0;34m\u001b[0m\u001b[0m\n\u001b[0m",
      "\u001b[0;31mTypeError\u001b[0m: unsupported operand type(s) for +: 'int' and 'tuple'"
     ]
    }
   ],
   "source": [
    "list(map(sum, answers))"
   ]
  },
  {
   "cell_type": "code",
   "execution_count": null,
   "metadata": {},
   "outputs": [],
   "source": []
  }
 ],
 "metadata": {
  "kernelspec": {
   "display_name": "Python 3",
   "language": "python",
   "name": "python3"
  },
  "language_info": {
   "codemirror_mode": {
    "name": "ipython",
    "version": 3
   },
   "file_extension": ".py",
   "mimetype": "text/x-python",
   "name": "python",
   "nbconvert_exporter": "python",
   "pygments_lexer": "ipython3",
   "version": "3.6.8"
  }
 },
 "nbformat": 4,
 "nbformat_minor": 2
}
